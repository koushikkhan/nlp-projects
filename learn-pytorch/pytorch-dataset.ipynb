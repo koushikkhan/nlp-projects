{
 "cells": [
  {
   "cell_type": "code",
   "execution_count": 2,
   "id": "46a87ee6-6655-4c9e-8b40-f03c723b0166",
   "metadata": {
    "tags": []
   },
   "outputs": [],
   "source": [
    "import torch\n",
    "import torch.nn as nn\n",
    "from torch.utils.data import Dataset, DataLoader, TensorDataset\n",
    "from torch import optim\n",
    "from generate_regression_data import *\n",
    "from model_utils import *"
   ]
  },
  {
   "cell_type": "code",
   "execution_count": 3,
   "id": "57f6aac7-91d7-4c6c-8ddf-3d74ad6f531b",
   "metadata": {
    "tags": []
   },
   "outputs": [
    {
     "name": "stdout",
     "output_type": "stream",
     "text": [
      "gpu count: 1\n",
      "Tesla T4\n"
     ]
    }
   ],
   "source": [
    "device = 'cuda' if torch.cuda.is_available() else 'cpu'\n",
    "# print(device)\n",
    "\n",
    "n_cudas = torch.cuda.device_count()\n",
    "print(f\"gpu count: {n_cudas}\")\n",
    "for i in range(n_cudas):\n",
    "    print(torch.cuda.get_device_name(i))"
   ]
  },
  {
   "cell_type": "markdown",
   "id": "8da30472-b8f3-48d1-93fa-c05689d823fd",
   "metadata": {},
   "source": [
    "# Prepare Dataset"
   ]
  },
  {
   "cell_type": "code",
   "execution_count": 4,
   "id": "5005e752-e050-457c-a604-5696aa7b7ac5",
   "metadata": {
    "tags": []
   },
   "outputs": [],
   "source": [
    "# create raw dataset\n",
    "x_train, y_train, x_valid, y_valid = generate_simple_regression_data(\n",
    "    true_bias=3, \n",
    "    true_weight=4, \n",
    "    sample_size=1000, \n",
    "    mode='train', \n",
    "    set_seed=42\n",
    ")"
   ]
  },
  {
   "cell_type": "code",
   "execution_count": 5,
   "id": "76fc6c79-455a-48b6-b2dc-ed8aeec2e669",
   "metadata": {
    "tags": []
   },
   "outputs": [],
   "source": [
    "# into Pytorch's tensor\n",
    "x_train_tensor = torch.as_tensor(x_train).float().to(device)\n",
    "y_train_tensor = torch.as_tensor(y_train).float().to(device)"
   ]
  },
  {
   "cell_type": "code",
   "execution_count": 6,
   "id": "0bc276c6-f549-4a2d-a300-a8837b9e4ed6",
   "metadata": {
    "tags": []
   },
   "outputs": [],
   "source": [
    "# builds datasets\n",
    "train_dataset = CustomDataset(x_train_tensor, y_train_tensor)\n",
    "valid_dataset = CustomDataset(x_train_tensor, y_train_tensor)"
   ]
  },
  {
   "cell_type": "code",
   "execution_count": 7,
   "id": "4bd484b3-4071-4114-86d1-e596fd791491",
   "metadata": {
    "tags": []
   },
   "outputs": [],
   "source": [
    "# builds dataloaders\n",
    "train_loader = DataLoader(dataset=train_dataset, batch_size=16, shuffle=True)\n",
    "valid_loader = DataLoader(dataset=train_dataset, batch_size=16, shuffle=True)"
   ]
  },
  {
   "cell_type": "code",
   "execution_count": 8,
   "id": "8078aeb9-7282-4e5b-aa8e-2b5e5a06dc92",
   "metadata": {
    "tags": []
   },
   "outputs": [],
   "source": [
    "# retrieve mini-batches\n",
    "# next(iter(train_loader))"
   ]
  },
  {
   "cell_type": "markdown",
   "id": "5aca57bc-453b-4636-a81a-4849c4db0312",
   "metadata": {},
   "source": [
    "# Define Model"
   ]
  },
  {
   "cell_type": "code",
   "execution_count": 9,
   "id": "6ad315f7-5c47-4f73-a76d-27f9bcff1e4a",
   "metadata": {
    "tags": []
   },
   "outputs": [],
   "source": [
    "# define model\n",
    "class MyLinearRegressionNested(nn.Module):\n",
    "    def __init__(self):\n",
    "        super().__init__()\n",
    "        self.linear = nn.Linear(in_features=1, out_features=1)\n",
    "    \n",
    "    def forward(self, x):\n",
    "        y_hat = self.linear(x)\n",
    "        return y_hat"
   ]
  },
  {
   "cell_type": "code",
   "execution_count": 10,
   "id": "9609ca69-b842-4e5d-a68a-49c3e3558962",
   "metadata": {
    "tags": []
   },
   "outputs": [],
   "source": [
    "# create model instance\n",
    "test_model = MyLinearRegressionNested().to(device)"
   ]
  },
  {
   "cell_type": "markdown",
   "id": "b7edbe36-59dc-4dfb-a212-c1459b2bf7b6",
   "metadata": {},
   "source": [
    "# Training Loop"
   ]
  },
  {
   "cell_type": "code",
   "execution_count": 11,
   "id": "2aba4e38-d930-4fba-b843-f84a16e7ab35",
   "metadata": {
    "tags": []
   },
   "outputs": [],
   "source": [
    "num_epochs = 1000\n",
    "lr = 0.1\n",
    "optimizer = optim.SGD(params=test_model.parameters(), lr=lr)\n",
    "loss_fn = nn.MSELoss(reduction='mean')\n",
    "\n",
    "perform_train_step = make_train_step_fn(model=test_model, loss_func=loss_fn, optimizer=optimizer)"
   ]
  },
  {
   "cell_type": "markdown",
   "id": "8e1caa71-34e8-4f3d-af5c-21e3a36948b2",
   "metadata": {
    "tags": []
   },
   "source": [
    "## Stochastic Gradient Descent"
   ]
  },
  {
   "cell_type": "code",
   "execution_count": null,
   "id": "f9ea9697-48de-4163-a61d-f782afa7f237",
   "metadata": {
    "tags": []
   },
   "outputs": [],
   "source": [
    "for i in range(num_epochs):\n",
    "    # get loss value\n",
    "    current_loss, bias, weight = perform_train_step(x=x_train_tensor, y=y_train_tensor)\n",
    "    \n",
    "    if i%100 == 0:\n",
    "        print(f\"Epoch: {i}, Loss: {current_loss:0.5f}, Bias (b): {bias:0.5f}, Weight (w): {weight:0.5f}\")"
   ]
  },
  {
   "cell_type": "markdown",
   "id": "871bbbb9-1f65-481b-be93-6e32ae361cad",
   "metadata": {
    "tags": []
   },
   "source": [
    "## Mini-batch Gradient Descent"
   ]
  },
  {
   "cell_type": "code",
   "execution_count": null,
   "id": "91da95ab-16fa-46bd-849f-d3524a903a27",
   "metadata": {
    "tags": []
   },
   "outputs": [],
   "source": [
    "losses = []\n",
    "\n",
    "for i in range(num_epochs):\n",
    "    \n",
    "    mini_batch_losses = []\n",
    "    mini_batch_biases = []\n",
    "    mini_batch_weights = []\n",
    "    \n",
    "    for x_batch, y_batch in train_loader:\n",
    "        \n",
    "        x_batch = x_batch.to(device)\n",
    "        y_batch = y_batch.to(device)\n",
    "        \n",
    "        # print(x_batch.dtype)\n",
    "        \n",
    "        mini_batch_loss, mini_batch_bias, mini_batch_weight = perform_train_step(x=x_batch, y=y_batch)\n",
    "        \n",
    "        # accumulate losses, biases and weights for a mini batch\n",
    "        mini_batch_losses.append(mini_batch_loss)\n",
    "        mini_batch_biases.append(mini_batch_bias)\n",
    "        mini_batch_weights.append(mini_batch_weight)\n",
    "        \n",
    "    loss = np.mean(mini_batch_losses)\n",
    "    bias = np.mean(mini_batch_biases)\n",
    "    weight = np.mean(mini_batch_weights)\n",
    "    losses.append(loss)\n",
    "    \n",
    "    if i%100 == 0:\n",
    "        print(f\"Epoch: {i}, Loss: {loss:0.5f}, Bias (b): {bias:0.4f}, Weight (w): {weight:0.4f}\")"
   ]
  },
  {
   "cell_type": "code",
   "execution_count": null,
   "id": "f850dc44-bcea-4de5-bdc6-15da8776862d",
   "metadata": {},
   "outputs": [],
   "source": []
  }
 ],
 "metadata": {
  "kernelspec": {
   "display_name": "pytorch-gpu:Python",
   "language": "python",
   "name": "conda-env-pytorch-gpu-py"
  },
  "language_info": {
   "codemirror_mode": {
    "name": "ipython",
    "version": 3
   },
   "file_extension": ".py",
   "mimetype": "text/x-python",
   "name": "python",
   "nbconvert_exporter": "python",
   "pygments_lexer": "ipython3",
   "version": "3.11.9"
  }
 },
 "nbformat": 4,
 "nbformat_minor": 5
}
