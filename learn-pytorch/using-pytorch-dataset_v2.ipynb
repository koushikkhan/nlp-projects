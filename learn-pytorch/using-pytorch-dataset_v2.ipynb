{
 "cells": [
  {
   "cell_type": "code",
   "execution_count": 1,
   "id": "46a87ee6-6655-4c9e-8b40-f03c723b0166",
   "metadata": {
    "tags": []
   },
   "outputs": [],
   "source": [
    "import torch\n",
    "import torch.nn as nn\n",
    "from torch.utils.data import Dataset, DataLoader, TensorDataset, random_split\n",
    "from torch import optim\n",
    "from data_utils import *\n",
    "from model_utils import *"
   ]
  },
  {
   "cell_type": "code",
   "execution_count": 2,
   "id": "57f6aac7-91d7-4c6c-8ddf-3d74ad6f531b",
   "metadata": {
    "tags": []
   },
   "outputs": [
    {
     "name": "stdout",
     "output_type": "stream",
     "text": [
      "gpu count: 0\n"
     ]
    }
   ],
   "source": [
    "device = 'cuda' if torch.cuda.is_available() else 'cpu'\n",
    "# print(device)\n",
    "\n",
    "n_cudas = torch.cuda.device_count()\n",
    "print(f\"gpu count: {n_cudas}\")\n",
    "for i in range(n_cudas):\n",
    "    print(torch.cuda.get_device_name(i))"
   ]
  },
  {
   "cell_type": "markdown",
   "id": "8da30472-b8f3-48d1-93fa-c05689d823fd",
   "metadata": {},
   "source": [
    "# Prepare Dataset"
   ]
  },
  {
   "cell_type": "code",
   "execution_count": 3,
   "id": "5005e752-e050-457c-a604-5696aa7b7ac5",
   "metadata": {
    "tags": []
   },
   "outputs": [],
   "source": [
    "# create raw dataset\n",
    "x, y = GenerateRandomDataset.generate_slr_dataset_v2(\n",
    "    true_bias=3.0, \n",
    "    true_weight=4.0, \n",
    "    sample_size=1000\n",
    ")"
   ]
  },
  {
   "cell_type": "code",
   "execution_count": 4,
   "id": "76fc6c79-455a-48b6-b2dc-ed8aeec2e669",
   "metadata": {
    "tags": []
   },
   "outputs": [],
   "source": [
    "# into Pytorch's tensor\n",
    "x_tensor = torch.as_tensor(x).float().to(device)\n",
    "y_tensor = torch.as_tensor(y).float().to(device)"
   ]
  },
  {
   "cell_type": "code",
   "execution_count": 5,
   "id": "0bc276c6-f549-4a2d-a300-a8837b9e4ed6",
   "metadata": {
    "tags": []
   },
   "outputs": [],
   "source": [
    "# builds datasets\n",
    "dataset = CustomDataset(x_tensor, y_tensor)"
   ]
  },
  {
   "cell_type": "code",
   "execution_count": 6,
   "id": "922c0d60-4a2a-49fa-9786-56c1523c4c7e",
   "metadata": {},
   "outputs": [],
   "source": [
    "# performs the split\n",
    "ratio = .8\n",
    "n_total = len(dataset)\n",
    "n_train = int(n_total * ratio)\n",
    "n_val = n_total - n_train\n",
    "train_data, val_data = random_split(dataset, [n_train, n_val])"
   ]
  },
  {
   "cell_type": "code",
   "execution_count": 7,
   "id": "4bd484b3-4071-4114-86d1-e596fd791491",
   "metadata": {
    "tags": []
   },
   "outputs": [],
   "source": [
    "# builds dataloaders\n",
    "train_loader = DataLoader(dataset=train_data, batch_size=16, shuffle=True)\n",
    "val_loader = DataLoader(dataset=val_data, batch_size=16, shuffle=True)"
   ]
  },
  {
   "cell_type": "code",
   "execution_count": 8,
   "id": "8078aeb9-7282-4e5b-aa8e-2b5e5a06dc92",
   "metadata": {
    "tags": []
   },
   "outputs": [],
   "source": [
    "# retrieve mini-batches\n",
    "# next(iter(train_loader))"
   ]
  },
  {
   "cell_type": "markdown",
   "id": "5aca57bc-453b-4636-a81a-4849c4db0312",
   "metadata": {},
   "source": [
    "# Define Model"
   ]
  },
  {
   "cell_type": "code",
   "execution_count": 9,
   "id": "6ad315f7-5c47-4f73-a76d-27f9bcff1e4a",
   "metadata": {
    "tags": []
   },
   "outputs": [],
   "source": [
    "# define model\n",
    "class MyLinearRegressionNested(nn.Module):\n",
    "    def __init__(self):\n",
    "        super().__init__()\n",
    "        self.linear = nn.Linear(in_features=1, out_features=1)\n",
    "    \n",
    "    def forward(self, x):\n",
    "        y_hat = self.linear(x)\n",
    "        return y_hat"
   ]
  },
  {
   "cell_type": "code",
   "execution_count": 10,
   "id": "9609ca69-b842-4e5d-a68a-49c3e3558962",
   "metadata": {
    "tags": []
   },
   "outputs": [],
   "source": [
    "# create model instance\n",
    "reg_model = MyLinearRegressionNested().to(device)"
   ]
  },
  {
   "cell_type": "markdown",
   "id": "b7edbe36-59dc-4dfb-a212-c1459b2bf7b6",
   "metadata": {},
   "source": [
    "# Training Loop"
   ]
  },
  {
   "cell_type": "markdown",
   "id": "871bbbb9-1f65-481b-be93-6e32ae361cad",
   "metadata": {
    "tags": []
   },
   "source": [
    "## Mini-batch Gradient Descent"
   ]
  },
  {
   "cell_type": "code",
   "execution_count": 11,
   "id": "d94c38d0-3b51-4d6e-9e9e-87a660d5d744",
   "metadata": {
    "tags": []
   },
   "outputs": [],
   "source": [
    "num_epochs = 20\n",
    "lr = 0.1\n",
    "optimizer = optim.SGD(params=reg_model.parameters(), lr=lr)\n",
    "loss_fn = nn.MSELoss(reduction='mean')\n",
    "\n",
    "perform_train_step = make_train_step_fn(model=reg_model, loss_func=loss_fn, optimizer=optimizer)\n",
    "perform_val_step = make_val_step_fn(model=reg_model, loss_func=loss_fn)"
   ]
  },
  {
   "cell_type": "code",
   "execution_count": 12,
   "id": "91da95ab-16fa-46bd-849f-d3524a903a27",
   "metadata": {
    "tags": []
   },
   "outputs": [
    {
     "name": "stdout",
     "output_type": "stream",
     "text": [
      "Epoch: 0, Training Loss: 1.01664, Validation Loss: 0.07500\n",
      "Epoch: 1, Training Loss: 0.04788, Validation Loss: 0.02577\n",
      "Epoch: 2, Training Loss: 0.02023, Validation Loss: 0.01362\n",
      "Epoch: 3, Training Loss: 0.01238, Validation Loss: 0.01178\n",
      "Epoch: 4, Training Loss: 0.01023, Validation Loss: 0.01169\n",
      "Epoch: 5, Training Loss: 0.00974, Validation Loss: 0.01519\n",
      "Epoch: 6, Training Loss: 0.00971, Validation Loss: 0.01242\n",
      "Epoch: 7, Training Loss: 0.00946, Validation Loss: 0.01353\n",
      "Epoch: 8, Training Loss: 0.00963, Validation Loss: 0.01298\n",
      "Epoch: 9, Training Loss: 0.00969, Validation Loss: 0.01198\n",
      "Epoch: 10, Training Loss: 0.00963, Validation Loss: 0.01266\n",
      "Epoch: 11, Training Loss: 0.00956, Validation Loss: 0.01218\n",
      "Epoch: 12, Training Loss: 0.00956, Validation Loss: 0.01186\n",
      "Epoch: 13, Training Loss: 0.00957, Validation Loss: 0.01249\n",
      "Epoch: 14, Training Loss: 0.00965, Validation Loss: 0.01324\n",
      "Epoch: 15, Training Loss: 0.00978, Validation Loss: 0.01201\n",
      "Epoch: 16, Training Loss: 0.00965, Validation Loss: 0.01287\n",
      "Epoch: 17, Training Loss: 0.00964, Validation Loss: 0.01312\n",
      "Epoch: 18, Training Loss: 0.00965, Validation Loss: 0.01259\n",
      "Epoch: 19, Training Loss: 0.00940, Validation Loss: 0.01245\n"
     ]
    }
   ],
   "source": [
    "losses = []\n",
    "val_losses = []\n",
    "for i in range(num_epochs):\n",
    "    # train\n",
    "    loss = mini_batch(device=device, data_loader=train_loader, step_fn=perform_train_step)\n",
    "    losses.append(loss)\n",
    "    \n",
    "    # validation\n",
    "    with torch.no_grad():\n",
    "        val_loss = mini_batch(device=device, data_loader=val_loader, step_fn=perform_val_step)\n",
    "        val_losses.append(val_loss)\n",
    "    \n",
    "    print(f\"Epoch: {i}, Training Loss: {loss:0.5f}, Validation Loss: {val_loss:0.5f}\")"
   ]
  },
  {
   "cell_type": "code",
   "execution_count": 13,
   "id": "f850dc44-bcea-4de5-bdc6-15da8776862d",
   "metadata": {},
   "outputs": [
    {
     "name": "stdout",
     "output_type": "stream",
     "text": [
      "OrderedDict({'linear.weight': tensor([[3.9904]]), 'linear.bias': tensor([2.9915])})\n"
     ]
    }
   ],
   "source": [
    "# Checks model's parameters\n",
    "print(reg_model.state_dict())"
   ]
  },
  {
   "cell_type": "code",
   "execution_count": null,
   "id": "b2416b34-5dd5-4c0c-9b0d-a0fb558f5d82",
   "metadata": {},
   "outputs": [],
   "source": []
  }
 ],
 "metadata": {
  "kernelspec": {
   "display_name": "DL",
   "language": "python",
   "name": "pyenv-bol"
  },
  "language_info": {
   "codemirror_mode": {
    "name": "ipython",
    "version": 3
   },
   "file_extension": ".py",
   "mimetype": "text/x-python",
   "name": "python",
   "nbconvert_exporter": "python",
   "pygments_lexer": "ipython3",
   "version": "3.12.2"
  }
 },
 "nbformat": 4,
 "nbformat_minor": 5
}
