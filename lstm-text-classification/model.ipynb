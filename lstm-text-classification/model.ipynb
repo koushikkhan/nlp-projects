{
 "cells": [
  {
   "cell_type": "markdown",
   "id": "6b7b9899-febc-4828-9e78-d8f973729be9",
   "metadata": {},
   "source": [
    "# Imports"
   ]
  },
  {
   "cell_type": "code",
   "execution_count": null,
   "id": "3686de54-eecd-4ad1-9529-3ebd1c7fa571",
   "metadata": {},
   "outputs": [],
   "source": [
    "import os\n",
    "import pickle\n",
    "import numpy as np\n",
    "import pandas as pd\n",
    "import matplotlib.pyplot as plt\n",
    "import tensorflow as tf\n",
    "from tensorflow import keras\n",
    "from keras import layers, ops\n",
    "from tensorflow.keras.preprocessing.sequence import pad_sequences\n",
    "from tensorflow.keras.models import Sequential, load_model\n",
    "from tensorflow.keras.layers import Input, LSTM, Dense, Embedding, Bidirectional\n",
    "from tensorflow.keras.callbacks import EarlyStopping, ModelCheckpoint\n",
    "from tensorflow.keras.utils import plot_model, set_random_seed"
   ]
  },
  {
   "cell_type": "markdown",
   "id": "45ab5215-1b15-4c02-b995-bc58af41f289",
   "metadata": {},
   "source": [
    "# Developing Model"
   ]
  },
  {
   "cell_type": "markdown",
   "id": "23f0c72c-b0e3-4b0c-b7e6-195d4eaa857b",
   "metadata": {},
   "source": [
    "## Design Sequential Model"
   ]
  },
  {
   "cell_type": "code",
   "execution_count": null,
   "id": "f1729a0f-87bc-4958-8c93-ff6012fb5a4a",
   "metadata": {},
   "outputs": [],
   "source": [
    "def create_sequential_model(vocab_size, embedding_dim, sequence_length, lstm_out_dim):\n",
    "    # initialize a sequential model\n",
    "    model = Sequential([\n",
    "                Input(shape=(sequence_length,)),\n",
    "                Embedding(input_dim=vocab_size, output_dim=embedding_dim),\n",
    "                Bidirectional(LSTM(units=lstm_out_dim)),\n",
    "                Dense(units=10, activation='relu'),\n",
    "                Dense(units=1, activation='sigmoid')\n",
    "            ])\n",
    "    \n",
    "    # compile the model\n",
    "    model.compile(loss='binary_crossentropy', optimizer='adam', metrics=['accuracy'])\n",
    "    \n",
    "    return model   "
   ]
  },
  {
   "cell_type": "code",
   "execution_count": null,
   "id": "7e693b9a-c153-4c99-99c0-056f8f1b7acc",
   "metadata": {
    "tags": []
   },
   "outputs": [],
   "source": [
    "# create model\n",
    "# imdb_model = create_sequential_model(vocab_size=10000, embedding_dim=16, sequence_length=200, lstm_out_dim=32)\n",
    "\n",
    "# print model summary\n",
    "# print(imdb_model.summary())"
   ]
  },
  {
   "cell_type": "code",
   "execution_count": null,
   "id": "c829a713-24c1-47a2-9f0b-b7b4b05e42e1",
   "metadata": {},
   "outputs": [],
   "source": [
    "# plot model\n",
    "# plot_model(imdb_model)"
   ]
  },
  {
   "cell_type": "markdown",
   "id": "405fa33e-7b7e-461e-878d-c6c2fe283c4b",
   "metadata": {},
   "source": [
    "## Design Model with Functional API"
   ]
  },
  {
   "cell_type": "code",
   "execution_count": null,
   "id": "edc854e5-fad2-46e9-bbf8-279536e73094",
   "metadata": {},
   "outputs": [],
   "source": [
    "vocab_size=10000 \n",
    "embedding_dim=16\n",
    "sequence_length=200\n",
    "lstm_out_dim=32"
   ]
  },
  {
   "cell_type": "code",
   "execution_count": null,
   "id": "8e4b06f8-1319-4457-95da-d1fac099e964",
   "metadata": {},
   "outputs": [],
   "source": [
    "def create_functional_model(vocab_size, embedding_dim, sequence_length, lstm_out_dim):\n",
    "    # define model with functional API \n",
    "    inputs = keras.Input(shape=(sequence_length,))\n",
    "\n",
    "    embedding = layers.Embedding(input_dim=vocab_size, output_dim=embedding_dim)\n",
    "    inputs_embeddings = embedding(inputs)\n",
    "    \n",
    "    bidirectional_lstm = layers.Bidirectional(layers.LSTM(units=lstm_out_dim))\n",
    "    context = bidirectional_lstm(inputs_embeddings)\n",
    "    \n",
    "    dense_1 = layers.Dense(units=10, activation='relu')\n",
    "    dense_1_output = dense_1(context)\n",
    "    \n",
    "    dense_2 = layers.Dense(units=1, activation='sigmoid')\n",
    "    output = dense_2(dense_1_output)\n",
    "    \n",
    "    model = keras.Model(inputs=inputs, outputs=output, name='imdb_model')\n",
    "    \n",
    "    # compile the model\n",
    "    model.compile(loss='binary_crossentropy', optimizer='adam', metrics=['accuracy'])\n",
    "    \n",
    "    return model "
   ]
  },
  {
   "cell_type": "code",
   "execution_count": null,
   "id": "f9e44a45-16e0-4b6a-a95f-07713024ecd1",
   "metadata": {},
   "outputs": [],
   "source": [
    "imdb_model = create_functional_model(vocab_size=10000, embedding_dim=16, sequence_length=200, lstm_out_dim=32)"
   ]
  },
  {
   "cell_type": "code",
   "execution_count": null,
   "id": "f7b94b2b-9b0e-49da-8e76-b1cbded9eef8",
   "metadata": {},
   "outputs": [],
   "source": [
    "print(imdb_model.summary())"
   ]
  },
  {
   "cell_type": "code",
   "execution_count": null,
   "id": "52e1267c-4a97-4b35-a9c9-21c62b98f403",
   "metadata": {},
   "outputs": [],
   "source": [
    "# plot_model(imdb_model, \"imdb_classifier.png\")"
   ]
  },
  {
   "cell_type": "markdown",
   "id": "6149d1e4-0d0f-450a-af2a-a617bccc6977",
   "metadata": {},
   "source": [
    "## Creating Model Checkpoints"
   ]
  },
  {
   "cell_type": "code",
   "execution_count": null,
   "id": "3d0af4ce-3b01-4bad-89d7-2a581ed944fd",
   "metadata": {
    "tags": []
   },
   "outputs": [],
   "source": [
    "# checkpoint_path = os.path.join(os.getcwd(), \"training/cp.ckpt/imdb_sentiment_best_model.weights.h5\")\n",
    "# checkpoint_dir = os.path.dirname(checkpoint_path)\n",
    "# print(checkpoint_dir)"
   ]
  },
  {
   "cell_type": "code",
   "execution_count": null,
   "id": "d591c4ec-1729-46bb-b709-df4064910996",
   "metadata": {
    "tags": []
   },
   "outputs": [],
   "source": [
    "# checkpoint_filepath = os.path.join(os.getcwd(), 'model.keras')\n",
    "\n",
    "# Create a callback that saves the model's weights\n",
    "# model_checkpoint_callback = ModelCheckpoint(\n",
    "#     filepath=checkpoint_path, \n",
    "#     save_weights_only=True, \n",
    "#     monitor='val_loss', \n",
    "#     mode='min', \n",
    "#     save_best_only=True\n",
    "# )\n",
    "\n",
    "# callbacks = [EarlyStopping(patience=2), model_checkpoint_callback]"
   ]
  },
  {
   "cell_type": "code",
   "execution_count": null,
   "id": "fcc895d1-c5e1-45df-a53b-bfd5a9a73da9",
   "metadata": {
    "tags": []
   },
   "outputs": [],
   "source": [
    "# load training data\n",
    "path_preprocessed = os.path.join(os.getcwd(), 'data-preprocessed')\n",
    "\n",
    "with open(os.path.join(path_preprocessed, 'train_padded.pickle'), 'rb') as f:\n",
    "    train_padded = pickle.load(f)\n",
    "    \n",
    "with open(os.path.join(path_preprocessed, 'y_train.pickle'), 'rb') as f:\n",
    "    y_train = pickle.load(f)\n",
    "    \n",
    "with open(os.path.join(path_preprocessed, 'test_padded.pickle'), 'rb') as f:\n",
    "    test_padded = pickle.load(f)\n",
    "    \n",
    "with open(os.path.join(path_preprocessed, 'y_test.pickle'), 'rb') as f:\n",
    "    y_test = pickle.load(f)"
   ]
  },
  {
   "cell_type": "code",
   "execution_count": null,
   "id": "d35b5bdd-9469-414b-9d17-c868575b6f33",
   "metadata": {
    "tags": []
   },
   "outputs": [],
   "source": [
    "history = imdb_model.fit(\n",
    "    train_padded, \n",
    "    y_train, \n",
    "    epochs=2, \n",
    "    validation_data=(test_padded, y_test),\n",
    "    callbacks=[EarlyStopping(patience=2)]\n",
    ")"
   ]
  },
  {
   "cell_type": "code",
   "execution_count": null,
   "id": "09d0b208-2ce5-48ce-9f60-4ef15fd12fb1",
   "metadata": {},
   "outputs": [],
   "source": [
    "# model_seq.save('imdb_model.keras')\n",
    "\n",
    "# serialize weights to HDF5\n",
    "imdb_model.save_weights(\"imdb_model.weights.h5\")\n",
    "print(\"Saved model to disk\")"
   ]
  },
  {
   "cell_type": "markdown",
   "id": "de22b96c-aad9-43c8-a6ee-d2d653d4a026",
   "metadata": {},
   "source": [
    "## Get Metrics and Performance Graphs"
   ]
  },
  {
   "cell_type": "code",
   "execution_count": null,
   "id": "2673c9c0-0042-4637-abe2-326e172d1a4b",
   "metadata": {},
   "outputs": [],
   "source": [
    "metrics_df = pd.DataFrame(history.history)\n",
    "print(metrics_df)"
   ]
  },
  {
   "cell_type": "code",
   "execution_count": null,
   "id": "833397bd-5afa-432e-a163-14ce404638c8",
   "metadata": {
    "tags": []
   },
   "outputs": [],
   "source": [
    "plt.figure(figsize=(10,5))\n",
    "plt.plot(metrics_df.index, metrics_df.loss)\n",
    "plt.plot(metrics_df.index, metrics_df.val_loss)\n",
    "plt.title('IMBD Reviews Sentiment Analysis Model Loss over Epochs')\n",
    "plt.xlabel('Epochs')\n",
    "plt.ylabel('Binary Crossentropy')\n",
    "plt.legend(['Training Loss', 'Validation Loss'])\n",
    "plt.show()"
   ]
  },
  {
   "cell_type": "code",
   "execution_count": null,
   "id": "45a94746-e357-4697-8818-729212ffc979",
   "metadata": {
    "tags": []
   },
   "outputs": [],
   "source": [
    "plt.figure(figsize=(10,5))\n",
    "plt.plot(metrics_df.index, metrics_df.accuracy)\n",
    "plt.plot(metrics_df.index, metrics_df.val_accuracy)\n",
    "plt.title('IMBD Reviews Sentiment Analysis Model Accuracy over Epochs')\n",
    "plt.xlabel('Epochs')\n",
    "plt.ylabel('Accuracy')\n",
    "plt.legend(['Training Accuracy', 'Validation Accuracy'])\n",
    "plt.show()"
   ]
  },
  {
   "cell_type": "markdown",
   "id": "e64bcc4e-8bce-435f-b4dc-795529b6a37c",
   "metadata": {},
   "source": [
    "# Making Inference"
   ]
  },
  {
   "cell_type": "markdown",
   "id": "80ba5246-df7d-4b6a-9286-29ec03ac93be",
   "metadata": {},
   "source": [
    "## Load Tokenizer"
   ]
  },
  {
   "cell_type": "code",
   "execution_count": null,
   "id": "5a3351a5-5ad1-4ccb-b81c-9d1b9761f142",
   "metadata": {
    "tags": []
   },
   "outputs": [],
   "source": [
    "with open(os.path.join(path_preprocessed, 'tokenizer.pickle'), 'rb') as f:\n",
    "    tokenizer = pickle.load(f)"
   ]
  },
  {
   "cell_type": "markdown",
   "id": "d7628633-0a0d-4f0e-9da3-5e24c93eaa29",
   "metadata": {
    "tags": []
   },
   "source": [
    "## Prepare Test Data"
   ]
  },
  {
   "cell_type": "code",
   "execution_count": null,
   "id": "a0956fbb-2f98-4d19-9c51-d5b06f372b00",
   "metadata": {},
   "outputs": [],
   "source": [
    "# predict on a sample text without padding.\n",
    "sample_text = ('The movie was cool. The animation and the graphics '\n",
    "               'were out of this world. I would recommend this movie.')\n",
    "\n",
    "print([sample_text])"
   ]
  },
  {
   "cell_type": "code",
   "execution_count": null,
   "id": "535c1511-46e4-4f5e-9698-75d5451c8903",
   "metadata": {
    "tags": []
   },
   "outputs": [],
   "source": [
    "# tokenize reviews\n",
    "sequence_length = 200\n",
    "sample_sequences = tokenizer.texts_to_sequences([sample_text])\n",
    "sample_sequences_padded = np.array(\n",
    "            pad_sequences(\n",
    "                sample_sequences, \n",
    "                maxlen=sequence_length, \n",
    "                padding='post', \n",
    "                truncating='post'\n",
    "            )\n",
    "        )\n",
    "\n",
    "x_test = sample_sequences_padded.reshape(1, sequence_length)"
   ]
  },
  {
   "cell_type": "markdown",
   "id": "2f88ac3b-0fb5-487e-bb63-cccee55f2946",
   "metadata": {},
   "source": [
    "## Load Weights"
   ]
  },
  {
   "cell_type": "code",
   "execution_count": null,
   "id": "c12cf125-8d96-440a-b8b1-1302822e52bf",
   "metadata": {},
   "outputs": [],
   "source": [
    "# re-create model architecture\n",
    "imdb_trained_model = create_functional_model(\n",
    "        vocab_size=10000, \n",
    "        embedding_dim=16, \n",
    "        sequence_length=200, \n",
    "        lstm_out_dim=32\n",
    "    )"
   ]
  },
  {
   "cell_type": "code",
   "execution_count": null,
   "id": "d062f9f6-c20c-4ecd-b1b3-60652eb1bfd2",
   "metadata": {},
   "outputs": [],
   "source": [
    "# load saved weights\n",
    "imdb_trained_model.load_weights(\"imdb_model.weights.h5\")"
   ]
  },
  {
   "cell_type": "code",
   "execution_count": null,
   "id": "5e924933-539d-412b-857e-f839fc57dbe6",
   "metadata": {
    "tags": []
   },
   "outputs": [],
   "source": [
    "# make predictions\n",
    "predictions = imdb_trained_model.predict(x_test)\n",
    "print(predictions.item())"
   ]
  },
  {
   "cell_type": "code",
   "execution_count": null,
   "id": "0724a9f8-5eff-4913-99a9-141bf35bc820",
   "metadata": {},
   "outputs": [],
   "source": [
    "# model from memory\n",
    "# predictions = imdb_model.predict(x_test)\n",
    "# print(predictions.item())"
   ]
  },
  {
   "cell_type": "markdown",
   "id": "1dc0e488-df87-46f7-9cbb-d210fb459574",
   "metadata": {},
   "source": [
    "# References\n",
    "\n",
    "- https://www.embedded-robotics.com/sentiment-analysis-using-lstm/\n",
    "- https://www.tensorflow.org/tutorials/keras/save_and_load\n",
    "- https://keras.io/guides/functional_api/"
   ]
  },
  {
   "cell_type": "code",
   "execution_count": null,
   "id": "85adc81a-da5c-4e72-90c1-961c9c91c869",
   "metadata": {},
   "outputs": [],
   "source": []
  }
 ],
 "metadata": {
  "kernelspec": {
   "display_name": "pyenv-imdb:Python",
   "language": "python",
   "name": "conda-env-pyenv-imdb-py"
  },
  "language_info": {
   "codemirror_mode": {
    "name": "ipython",
    "version": 3
   },
   "file_extension": ".py",
   "mimetype": "text/x-python",
   "name": "python",
   "nbconvert_exporter": "python",
   "pygments_lexer": "ipython3",
   "version": "3.11.8"
  }
 },
 "nbformat": 4,
 "nbformat_minor": 5
}
