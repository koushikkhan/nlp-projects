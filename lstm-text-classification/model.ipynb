{
 "cells": [
  {
   "cell_type": "markdown",
   "id": "6b7b9899-febc-4828-9e78-d8f973729be9",
   "metadata": {},
   "source": [
    "# Imports"
   ]
  },
  {
   "cell_type": "code",
   "execution_count": 35,
   "id": "3686de54-eecd-4ad1-9529-3ebd1c7fa571",
   "metadata": {},
   "outputs": [],
   "source": [
    "import os\n",
    "import pickle\n",
    "import numpy as np\n",
    "import pandas as pd\n",
    "import matplotlib.pyplot as plt\n",
    "from tensorflow.keras.preprocessing.sequence import pad_sequences\n",
    "from tensorflow.keras.models import Sequential\n",
    "from tensorflow.keras.layers import LSTM, Dense, Embedding, Bidirectional\n",
    "from tensorflow.keras.callbacks import EarlyStopping, ModelCheckpoint"
   ]
  },
  {
   "cell_type": "markdown",
   "id": "45ab5215-1b15-4c02-b995-bc58af41f289",
   "metadata": {},
   "source": [
    "# Developing Model"
   ]
  },
  {
   "cell_type": "markdown",
   "id": "23f0c72c-b0e3-4b0c-b7e6-195d4eaa857b",
   "metadata": {},
   "source": [
    "## Design Sequential Model"
   ]
  },
  {
   "cell_type": "code",
   "execution_count": 2,
   "id": "bbcd9450-6e96-428d-af72-7f77fb3ffb50",
   "metadata": {
    "tags": []
   },
   "outputs": [],
   "source": [
    "# initiate model\n",
    "model_seq = Sequential()"
   ]
  },
  {
   "cell_type": "code",
   "execution_count": 3,
   "id": "08ef1ef9-75fa-4ce8-aac5-73c23aca8554",
   "metadata": {
    "tags": []
   },
   "outputs": [
    {
     "name": "stderr",
     "output_type": "stream",
     "text": [
      "/home/studio-lab-user/.conda/envs/pyenv-imdb/lib/python3.11/site-packages/keras/src/layers/core/embedding.py:81: UserWarning: Do not pass an `input_shape`/`input_dim` argument to a layer. When using Sequential models, prefer using an `Input(shape)` object as the first layer in the model instead.\n",
      "  super().__init__(**kwargs)\n"
     ]
    }
   ],
   "source": [
    "# add embedding layer\n",
    "emb_dim = 16\n",
    "vocab_size = 10000\n",
    "sequence_length = 200\n",
    "\n",
    "model_seq.add(\n",
    "        Embedding(\n",
    "            input_dim=vocab_size, \n",
    "            output_dim=emb_dim, \n",
    "            input_shape=(sequence_length,)\n",
    "        )\n",
    "    )"
   ]
  },
  {
   "cell_type": "code",
   "execution_count": 4,
   "id": "c78c790d-e1b7-4c67-8706-0c5308ba23a2",
   "metadata": {
    "tags": []
   },
   "outputs": [],
   "source": [
    "# add bidirectional LSTM layer\n",
    "lstm_out = 32\n",
    "model_seq.add(Bidirectional(LSTM(units=lstm_out)))"
   ]
  },
  {
   "cell_type": "code",
   "execution_count": 5,
   "id": "5a6bf17d-144e-4baf-ac37-a1da38b1422f",
   "metadata": {
    "tags": []
   },
   "outputs": [],
   "source": [
    "# add intermediate dense layer\n",
    "model_seq.add(Dense(units=10, activation='relu'))"
   ]
  },
  {
   "cell_type": "code",
   "execution_count": 6,
   "id": "17177623-1b88-4355-90b8-d18c58a50f40",
   "metadata": {
    "tags": []
   },
   "outputs": [],
   "source": [
    "# add final dense layer with sigmoid activation function\n",
    "model_seq.add(Dense(units=1, activation='sigmoid'))"
   ]
  },
  {
   "cell_type": "code",
   "execution_count": 7,
   "id": "0e957209-872b-4a3f-b7c4-766c2483c812",
   "metadata": {
    "tags": []
   },
   "outputs": [],
   "source": [
    "# compile the model\n",
    "model_seq.compile(loss='binary_crossentropy', optimizer='adam', metrics=['accuracy'])"
   ]
  },
  {
   "cell_type": "code",
   "execution_count": 8,
   "id": "7e693b9a-c153-4c99-99c0-056f8f1b7acc",
   "metadata": {
    "tags": []
   },
   "outputs": [
    {
     "data": {
      "text/html": [
       "<pre style=\"white-space:pre;overflow-x:auto;line-height:normal;font-family:Menlo,'DejaVu Sans Mono',consolas,'Courier New',monospace\"><span style=\"font-weight: bold\">Model: \"sequential\"</span>\n",
       "</pre>\n"
      ],
      "text/plain": [
       "\u001b[1mModel: \"sequential\"\u001b[0m\n"
      ]
     },
     "metadata": {},
     "output_type": "display_data"
    },
    {
     "data": {
      "text/html": [
       "<pre style=\"white-space:pre;overflow-x:auto;line-height:normal;font-family:Menlo,'DejaVu Sans Mono',consolas,'Courier New',monospace\">┏━━━━━━━━━━━━━━━━━━━━━━━━━━━━━━━━━┳━━━━━━━━━━━━━━━━━━━━━━━━┳━━━━━━━━━━━━━━━┓\n",
       "┃<span style=\"font-weight: bold\"> Layer (type)                    </span>┃<span style=\"font-weight: bold\"> Output Shape           </span>┃<span style=\"font-weight: bold\">       Param # </span>┃\n",
       "┡━━━━━━━━━━━━━━━━━━━━━━━━━━━━━━━━━╇━━━━━━━━━━━━━━━━━━━━━━━━╇━━━━━━━━━━━━━━━┩\n",
       "│ embedding (<span style=\"color: #0087ff; text-decoration-color: #0087ff\">Embedding</span>)           │ (<span style=\"color: #00d7ff; text-decoration-color: #00d7ff\">None</span>, <span style=\"color: #00af00; text-decoration-color: #00af00\">200</span>, <span style=\"color: #00af00; text-decoration-color: #00af00\">16</span>)        │       <span style=\"color: #00af00; text-decoration-color: #00af00\">160,000</span> │\n",
       "├─────────────────────────────────┼────────────────────────┼───────────────┤\n",
       "│ bidirectional (<span style=\"color: #0087ff; text-decoration-color: #0087ff\">Bidirectional</span>)   │ (<span style=\"color: #00d7ff; text-decoration-color: #00d7ff\">None</span>, <span style=\"color: #00af00; text-decoration-color: #00af00\">64</span>)             │        <span style=\"color: #00af00; text-decoration-color: #00af00\">12,544</span> │\n",
       "├─────────────────────────────────┼────────────────────────┼───────────────┤\n",
       "│ dense (<span style=\"color: #0087ff; text-decoration-color: #0087ff\">Dense</span>)                   │ (<span style=\"color: #00d7ff; text-decoration-color: #00d7ff\">None</span>, <span style=\"color: #00af00; text-decoration-color: #00af00\">10</span>)             │           <span style=\"color: #00af00; text-decoration-color: #00af00\">650</span> │\n",
       "├─────────────────────────────────┼────────────────────────┼───────────────┤\n",
       "│ dense_1 (<span style=\"color: #0087ff; text-decoration-color: #0087ff\">Dense</span>)                 │ (<span style=\"color: #00d7ff; text-decoration-color: #00d7ff\">None</span>, <span style=\"color: #00af00; text-decoration-color: #00af00\">1</span>)              │            <span style=\"color: #00af00; text-decoration-color: #00af00\">11</span> │\n",
       "└─────────────────────────────────┴────────────────────────┴───────────────┘\n",
       "</pre>\n"
      ],
      "text/plain": [
       "┏━━━━━━━━━━━━━━━━━━━━━━━━━━━━━━━━━┳━━━━━━━━━━━━━━━━━━━━━━━━┳━━━━━━━━━━━━━━━┓\n",
       "┃\u001b[1m \u001b[0m\u001b[1mLayer (type)                   \u001b[0m\u001b[1m \u001b[0m┃\u001b[1m \u001b[0m\u001b[1mOutput Shape          \u001b[0m\u001b[1m \u001b[0m┃\u001b[1m \u001b[0m\u001b[1m      Param #\u001b[0m\u001b[1m \u001b[0m┃\n",
       "┡━━━━━━━━━━━━━━━━━━━━━━━━━━━━━━━━━╇━━━━━━━━━━━━━━━━━━━━━━━━╇━━━━━━━━━━━━━━━┩\n",
       "│ embedding (\u001b[38;5;33mEmbedding\u001b[0m)           │ (\u001b[38;5;45mNone\u001b[0m, \u001b[38;5;34m200\u001b[0m, \u001b[38;5;34m16\u001b[0m)        │       \u001b[38;5;34m160,000\u001b[0m │\n",
       "├─────────────────────────────────┼────────────────────────┼───────────────┤\n",
       "│ bidirectional (\u001b[38;5;33mBidirectional\u001b[0m)   │ (\u001b[38;5;45mNone\u001b[0m, \u001b[38;5;34m64\u001b[0m)             │        \u001b[38;5;34m12,544\u001b[0m │\n",
       "├─────────────────────────────────┼────────────────────────┼───────────────┤\n",
       "│ dense (\u001b[38;5;33mDense\u001b[0m)                   │ (\u001b[38;5;45mNone\u001b[0m, \u001b[38;5;34m10\u001b[0m)             │           \u001b[38;5;34m650\u001b[0m │\n",
       "├─────────────────────────────────┼────────────────────────┼───────────────┤\n",
       "│ dense_1 (\u001b[38;5;33mDense\u001b[0m)                 │ (\u001b[38;5;45mNone\u001b[0m, \u001b[38;5;34m1\u001b[0m)              │            \u001b[38;5;34m11\u001b[0m │\n",
       "└─────────────────────────────────┴────────────────────────┴───────────────┘\n"
      ]
     },
     "metadata": {},
     "output_type": "display_data"
    },
    {
     "data": {
      "text/html": [
       "<pre style=\"white-space:pre;overflow-x:auto;line-height:normal;font-family:Menlo,'DejaVu Sans Mono',consolas,'Courier New',monospace\"><span style=\"font-weight: bold\"> Total params: </span><span style=\"color: #00af00; text-decoration-color: #00af00\">173,205</span> (676.58 KB)\n",
       "</pre>\n"
      ],
      "text/plain": [
       "\u001b[1m Total params: \u001b[0m\u001b[38;5;34m173,205\u001b[0m (676.58 KB)\n"
      ]
     },
     "metadata": {},
     "output_type": "display_data"
    },
    {
     "data": {
      "text/html": [
       "<pre style=\"white-space:pre;overflow-x:auto;line-height:normal;font-family:Menlo,'DejaVu Sans Mono',consolas,'Courier New',monospace\"><span style=\"font-weight: bold\"> Trainable params: </span><span style=\"color: #00af00; text-decoration-color: #00af00\">173,205</span> (676.58 KB)\n",
       "</pre>\n"
      ],
      "text/plain": [
       "\u001b[1m Trainable params: \u001b[0m\u001b[38;5;34m173,205\u001b[0m (676.58 KB)\n"
      ]
     },
     "metadata": {},
     "output_type": "display_data"
    },
    {
     "data": {
      "text/html": [
       "<pre style=\"white-space:pre;overflow-x:auto;line-height:normal;font-family:Menlo,'DejaVu Sans Mono',consolas,'Courier New',monospace\"><span style=\"font-weight: bold\"> Non-trainable params: </span><span style=\"color: #00af00; text-decoration-color: #00af00\">0</span> (0.00 B)\n",
       "</pre>\n"
      ],
      "text/plain": [
       "\u001b[1m Non-trainable params: \u001b[0m\u001b[38;5;34m0\u001b[0m (0.00 B)\n"
      ]
     },
     "metadata": {},
     "output_type": "display_data"
    },
    {
     "name": "stdout",
     "output_type": "stream",
     "text": [
      "None\n"
     ]
    }
   ],
   "source": [
    "# print model summary\n",
    "print(model_seq.summary())"
   ]
  },
  {
   "cell_type": "markdown",
   "id": "6149d1e4-0d0f-450a-af2a-a617bccc6977",
   "metadata": {},
   "source": [
    "## Creating Model Checkpoints"
   ]
  },
  {
   "cell_type": "code",
   "execution_count": 10,
   "id": "3d0af4ce-3b01-4bad-89d7-2a581ed944fd",
   "metadata": {
    "tags": []
   },
   "outputs": [
    {
     "name": "stdout",
     "output_type": "stream",
     "text": [
      "/home/studio-lab-user/sagemaker-studiolab-notebooks/imdb-review-classification/training/cp.ckpt\n"
     ]
    }
   ],
   "source": [
    "checkpoint_path = os.path.join(os.getcwd(), \"training/cp.ckpt/imdb_sentiment_best_model.weights.h5\")\n",
    "checkpoint_dir = os.path.dirname(checkpoint_path)\n",
    "print(checkpoint_dir)"
   ]
  },
  {
   "cell_type": "code",
   "execution_count": 11,
   "id": "d591c4ec-1729-46bb-b709-df4064910996",
   "metadata": {
    "tags": []
   },
   "outputs": [],
   "source": [
    "# checkpoint_filepath = os.path.join(os.getcwd(), 'model.keras')\n",
    "\n",
    "# Create a callback that saves the model's weights\n",
    "model_checkpoint_callback = ModelCheckpoint(\n",
    "    filepath=checkpoint_path, \n",
    "    save_weights_only=True, \n",
    "    monitor='val_loss', \n",
    "    mode='min', \n",
    "    save_best_only=True\n",
    ")\n",
    "\n",
    "callbacks = [EarlyStopping(patience=2), model_checkpoint_callback]"
   ]
  },
  {
   "cell_type": "code",
   "execution_count": 12,
   "id": "fcc895d1-c5e1-45df-a53b-bfd5a9a73da9",
   "metadata": {
    "tags": []
   },
   "outputs": [],
   "source": [
    "# load training data\n",
    "path_preprocessed = os.path.join(os.getcwd(), 'data-preprocessed')\n",
    "\n",
    "with open(os.path.join(path_preprocessed, 'train_padded.pickle'), 'rb') as f:\n",
    "    train_padded = pickle.load(f)\n",
    "    \n",
    "with open(os.path.join(path_preprocessed, 'y_train.pickle'), 'rb') as f:\n",
    "    y_train = pickle.load(f)\n",
    "    \n",
    "with open(os.path.join(path_preprocessed, 'test_padded.pickle'), 'rb') as f:\n",
    "    test_padded = pickle.load(f)\n",
    "    \n",
    "with open(os.path.join(path_preprocessed, 'y_test.pickle'), 'rb') as f:\n",
    "    y_test = pickle.load(f)"
   ]
  },
  {
   "cell_type": "code",
   "execution_count": 14,
   "id": "d35b5bdd-9469-414b-9d17-c868575b6f33",
   "metadata": {
    "tags": []
   },
   "outputs": [
    {
     "name": "stdout",
     "output_type": "stream",
     "text": [
      "\u001b[1m1172/1172\u001b[0m \u001b[32m━━━━━━━━━━━━━━━━━━━━\u001b[0m\u001b[37m\u001b[0m \u001b[1m133s\u001b[0m 114ms/step - accuracy: 0.8572 - loss: 0.3454 - val_accuracy: 0.8678 - val_loss: 0.3199\n"
     ]
    }
   ],
   "source": [
    "history = model_seq.fit(\n",
    "    train_padded, \n",
    "    y_train, \n",
    "    epochs=1, \n",
    "    validation_data=(test_padded, y_test),\n",
    "    callbacks=[model_checkpoint_callback]\n",
    ")"
   ]
  },
  {
   "cell_type": "markdown",
   "id": "de22b96c-aad9-43c8-a6ee-d2d653d4a026",
   "metadata": {},
   "source": [
    "## Get Metrics and Performance Graphs"
   ]
  },
  {
   "cell_type": "code",
   "execution_count": 15,
   "id": "2673c9c0-0042-4637-abe2-326e172d1a4b",
   "metadata": {},
   "outputs": [
    {
     "name": "stdout",
     "output_type": "stream",
     "text": [
      "   accuracy      loss  val_accuracy  val_loss\n",
      "0  0.866613  0.325872       0.86776  0.319884\n"
     ]
    }
   ],
   "source": [
    "metrics_df = pd.DataFrame(history.history)\n",
    "print(metrics_df)"
   ]
  },
  {
   "cell_type": "code",
   "execution_count": 16,
   "id": "833397bd-5afa-432e-a163-14ce404638c8",
   "metadata": {
    "tags": []
   },
   "outputs": [
    {
     "data": {
      "image/png": "[encoded data removed]",
      "text/plain": [
       "<Figure size 1000x500 with 1 Axes>"
      ]
     },
     "metadata": {},
     "output_type": "display_data"
    }
   ],
   "source": [
    "plt.figure(figsize=(10,5))\n",
    "plt.plot(metrics_df.index, metrics_df.loss)\n",
    "plt.plot(metrics_df.index, metrics_df.val_loss)\n",
    "plt.title('IMBD Reviews Sentiment Analysis Model Loss over Epochs')\n",
    "plt.xlabel('Epochs')\n",
    "plt.ylabel('Binary Crossentropy')\n",
    "plt.legend(['Training Loss', 'Validation Loss'])\n",
    "plt.show()"
   ]
  },
  {
   "cell_type": "code",
   "execution_count": 17,
   "id": "45a94746-e357-4697-8818-729212ffc979",
   "metadata": {
    "tags": []
   },
   "outputs": [
    {
     "data": {
      "image/png": "[encoded data removed]",
      "text/plain": [
       "<Figure size 1000x500 with 1 Axes>"
      ]
     },
     "metadata": {},
     "output_type": "display_data"
    }
   ],
   "source": [
    "plt.figure(figsize=(10,5))\n",
    "plt.plot(metrics_df.index, metrics_df.accuracy)\n",
    "plt.plot(metrics_df.index, metrics_df.val_accuracy)\n",
    "plt.title('IMBD Reviews Sentiment Analysis Model Accuracy over Epochs')\n",
    "plt.xlabel('Epochs')\n",
    "plt.ylabel('Accuracy')\n",
    "plt.legend(['Training Accuracy', 'Validation Accuracy'])\n",
    "plt.show()"
   ]
  },
  {
   "cell_type": "markdown",
   "id": "e64bcc4e-8bce-435f-b4dc-795529b6a37c",
   "metadata": {},
   "source": [
    "# Sentiment Prediction Using the Trained Model"
   ]
  },
  {
   "cell_type": "markdown",
   "id": "80ba5246-df7d-4b6a-9286-29ec03ac93be",
   "metadata": {},
   "source": [
    "## Load Tokenizer"
   ]
  },
  {
   "cell_type": "code",
   "execution_count": 23,
   "id": "5a3351a5-5ad1-4ccb-b81c-9d1b9761f142",
   "metadata": {
    "tags": []
   },
   "outputs": [],
   "source": [
    "with open(os.path.join(path_preprocessed, 'tokenizer.pickle'), 'rb') as f:\n",
    "    tokenizer = pickle.load(f)"
   ]
  },
  {
   "cell_type": "code",
   "execution_count": 30,
   "id": "2d6964d6-58d5-4fb6-82e8-fc1f5a208bb8",
   "metadata": {
    "tags": []
   },
   "outputs": [],
   "source": [
    "# tokenizer.word_index"
   ]
  },
  {
   "cell_type": "code",
   "execution_count": 36,
   "id": "a0956fbb-2f98-4d19-9c51-d5b06f372b00",
   "metadata": {},
   "outputs": [
    {
     "name": "stdout",
     "output_type": "stream",
     "text": [
      "['The movie was cool. The animation and the graphics were out of this world. I would recommend this movie.']\n"
     ]
    }
   ],
   "source": [
    "# predict on a sample text without padding.\n",
    "sample_text = ('The movie was cool. The animation and the graphics '\n",
    "               'were out of this world. I would recommend this movie.')\n",
    "\n",
    "print([sample_text])"
   ]
  },
  {
   "cell_type": "code",
   "execution_count": 51,
   "id": "535c1511-46e4-4f5e-9698-75d5451c8903",
   "metadata": {
    "tags": []
   },
   "outputs": [],
   "source": [
    "# tokenize reviews\n",
    "sequence_length = 200\n",
    "sample_sequences = tokenizer.texts_to_sequences([sample_text])\n",
    "sample_sequences_padded = np.array(\n",
    "            pad_sequences(\n",
    "                sample_sequences, \n",
    "                maxlen=sequence_length, \n",
    "                padding='post', \n",
    "                truncating='post'\n",
    "            )\n",
    "        )\n",
    "\n",
    "x_test = sample_sequences_padded.reshape(1, sequence_length)"
   ]
  },
  {
   "cell_type": "markdown",
   "id": "2f88ac3b-0fb5-487e-bb63-cccee55f2946",
   "metadata": {},
   "source": [
    "## Load Model"
   ]
  },
  {
   "cell_type": "code",
   "execution_count": 49,
   "id": "5e924933-539d-412b-857e-f839fc57dbe6",
   "metadata": {
    "tags": []
   },
   "outputs": [
    {
     "name": "stdout",
     "output_type": "stream",
     "text": [
      "\u001b[1m1/1\u001b[0m \u001b[32m━━━━━━━━━━━━━━━━━━━━\u001b[0m\u001b[37m\u001b[0m \u001b[1m0s\u001b[0m 39ms/step\n",
      "0.48500537872314453\n"
     ]
    }
   ],
   "source": [
    "predictions = model_seq.predict(x_test)\n",
    "print(predictions.item())"
   ]
  },
  {
   "cell_type": "markdown",
   "id": "1dc0e488-df87-46f7-9cbb-d210fb459574",
   "metadata": {},
   "source": [
    "# References\n",
    "\n",
    "- https://www.embedded-robotics.com/sentiment-analysis-using-lstm/\n",
    "- https://www.tensorflow.org/tutorials/keras/save_and_load"
   ]
  },
  {
   "cell_type": "code",
   "execution_count": null,
   "id": "3cdc4211-0c54-440f-aaa6-937a0ca83eaf",
   "metadata": {},
   "outputs": [],
   "source": []
  }
 ],
 "metadata": {
  "kernelspec": {
   "display_name": "pyenv-imdb:Python",
   "language": "python",
   "name": "conda-env-pyenv-imdb-py"
  },
  "language_info": {
   "codemirror_mode": {
    "name": "ipython",
    "version": 3
   },
   "file_extension": ".py",
   "mimetype": "text/x-python",
   "name": "python",
   "nbconvert_exporter": "python",
   "pygments_lexer": "ipython3",
   "version": "3.11.8"
  }
 },
 "nbformat": 4,
 "nbformat_minor": 5
}
