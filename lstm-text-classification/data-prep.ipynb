{
 "cells": [
  {
   "cell_type": "markdown",
   "id": "e023b114-7f15-416c-85f8-5f1bd8a8e16f",
   "metadata": {},
   "source": [
    "# Import Dataset and Preprocess"
   ]
  },
  {
   "cell_type": "markdown",
   "id": "57b0e44a-ad22-4a9f-b287-d1785d776262",
   "metadata": {},
   "source": [
    "## Download the IMDB Movie Review Dataset\n",
    "\n",
    "Link: https://www.kaggle.com/datasets/lakshmi25npathi/imdb-dataset-of-50k-movie-reviews"
   ]
  },
  {
   "cell_type": "code",
   "execution_count": 1,
   "id": "ab7c34c9-7769-404b-a9c2-0c79e04e8c64",
   "metadata": {
    "tags": []
   },
   "outputs": [
    {
     "name": "stderr",
     "output_type": "stream",
     "text": [
      "2024-04-09 17:15:29.591587: I external/local_tsl/tsl/cuda/cudart_stub.cc:32] Could not find cuda drivers on your machine, GPU will not be used.\n",
      "2024-04-09 17:15:29.595927: I external/local_tsl/tsl/cuda/cudart_stub.cc:32] Could not find cuda drivers on your machine, GPU will not be used.\n",
      "2024-04-09 17:15:29.653707: I tensorflow/core/platform/cpu_feature_guard.cc:210] This TensorFlow binary is optimized to use available CPU instructions in performance-critical operations.\n",
      "To enable the following instructions: AVX2 AVX512F FMA, in other operations, rebuild TensorFlow with the appropriate compiler flags.\n",
      "2024-04-09 17:15:30.994712: W tensorflow/compiler/tf2tensorrt/utils/py_utils.cc:38] TF-TRT Warning: Could not find TensorRT\n"
     ]
    }
   ],
   "source": [
    "import os\n",
    "import pickle\n",
    "import numpy as np\n",
    "import pandas as pd\n",
    "import matplotlib.pyplot as plt\n",
    "from sklearn.model_selection import train_test_split\n",
    "from tensorflow.keras.preprocessing.text import Tokenizer\n",
    "from tensorflow.keras.preprocessing.sequence import pad_sequences\n"
   ]
  },
  {
   "cell_type": "code",
   "execution_count": 2,
   "id": "fc062d05-bdc1-4b66-9dbd-ce5bc1ef25ad",
   "metadata": {
    "tags": []
   },
   "outputs": [],
   "source": [
    "reviews = pd.read_csv(\"./IMDB Dataset.csv.zip\")"
   ]
  },
  {
   "cell_type": "code",
   "execution_count": 3,
   "id": "cc09ca30-4b2f-430c-a7c9-8f0ce6e00cfd",
   "metadata": {
    "tags": []
   },
   "outputs": [
    {
     "data": {
      "text/plain": [
       "(50000, 2)"
      ]
     },
     "execution_count": 3,
     "metadata": {},
     "output_type": "execute_result"
    }
   ],
   "source": [
    "reviews.shape"
   ]
  },
  {
   "cell_type": "code",
   "execution_count": 4,
   "id": "5ea3b4cd-f862-4580-a7d1-47ec88553a14",
   "metadata": {
    "tags": []
   },
   "outputs": [
    {
     "data": {
      "text/html": [
       "<div>\n",
       "<style scoped>\n",
       "    .dataframe tbody tr th:only-of-type {\n",
       "        vertical-align: middle;\n",
       "    }\n",
       "\n",
       "    .dataframe tbody tr th {\n",
       "        vertical-align: top;\n",
       "    }\n",
       "\n",
       "    .dataframe thead th {\n",
       "        text-align: right;\n",
       "    }\n",
       "</style>\n",
       "<table border=\"1\" class=\"dataframe\">\n",
       "  <thead>\n",
       "    <tr style=\"text-align: right;\">\n",
       "      <th></th>\n",
       "      <th>review</th>\n",
       "      <th>sentiment</th>\n",
       "    </tr>\n",
       "  </thead>\n",
       "  <tbody>\n",
       "    <tr>\n",
       "      <th>0</th>\n",
       "      <td>One of the other reviewers has mentioned that ...</td>\n",
       "      <td>positive</td>\n",
       "    </tr>\n",
       "    <tr>\n",
       "      <th>1</th>\n",
       "      <td>A wonderful little production. &lt;br /&gt;&lt;br /&gt;The...</td>\n",
       "      <td>positive</td>\n",
       "    </tr>\n",
       "    <tr>\n",
       "      <th>2</th>\n",
       "      <td>I thought this was a wonderful way to spend ti...</td>\n",
       "      <td>positive</td>\n",
       "    </tr>\n",
       "    <tr>\n",
       "      <th>3</th>\n",
       "      <td>Basically there's a family where a little boy ...</td>\n",
       "      <td>negative</td>\n",
       "    </tr>\n",
       "    <tr>\n",
       "      <th>4</th>\n",
       "      <td>Petter Mattei's \"Love in the Time of Money\" is...</td>\n",
       "      <td>positive</td>\n",
       "    </tr>\n",
       "  </tbody>\n",
       "</table>\n",
       "</div>"
      ],
      "text/plain": [
       "                                              review sentiment\n",
       "0  One of the other reviewers has mentioned that ...  positive\n",
       "1  A wonderful little production. <br /><br />The...  positive\n",
       "2  I thought this was a wonderful way to spend ti...  positive\n",
       "3  Basically there's a family where a little boy ...  negative\n",
       "4  Petter Mattei's \"Love in the Time of Money\" is...  positive"
      ]
     },
     "execution_count": 4,
     "metadata": {},
     "output_type": "execute_result"
    }
   ],
   "source": [
    "reviews.head()"
   ]
  },
  {
   "cell_type": "code",
   "execution_count": 5,
   "id": "7790b2eb-d253-4c2e-b2c0-e9317d7ad311",
   "metadata": {
    "tags": []
   },
   "outputs": [],
   "source": [
    "reviews['sentiment_encoded'] = reviews['sentiment'].apply(lambda x: 1 if x == 'positive' else 0)"
   ]
  },
  {
   "cell_type": "code",
   "execution_count": 6,
   "id": "2d353acf-bc78-429a-9098-8d249d2ab461",
   "metadata": {
    "tags": []
   },
   "outputs": [
    {
     "data": {
      "text/html": [
       "<div>\n",
       "<style scoped>\n",
       "    .dataframe tbody tr th:only-of-type {\n",
       "        vertical-align: middle;\n",
       "    }\n",
       "\n",
       "    .dataframe tbody tr th {\n",
       "        vertical-align: top;\n",
       "    }\n",
       "\n",
       "    .dataframe thead th {\n",
       "        text-align: right;\n",
       "    }\n",
       "</style>\n",
       "<table border=\"1\" class=\"dataframe\">\n",
       "  <thead>\n",
       "    <tr style=\"text-align: right;\">\n",
       "      <th></th>\n",
       "      <th>review</th>\n",
       "      <th>sentiment</th>\n",
       "      <th>sentiment_encoded</th>\n",
       "    </tr>\n",
       "  </thead>\n",
       "  <tbody>\n",
       "    <tr>\n",
       "      <th>0</th>\n",
       "      <td>One of the other reviewers has mentioned that ...</td>\n",
       "      <td>positive</td>\n",
       "      <td>1</td>\n",
       "    </tr>\n",
       "    <tr>\n",
       "      <th>1</th>\n",
       "      <td>A wonderful little production. &lt;br /&gt;&lt;br /&gt;The...</td>\n",
       "      <td>positive</td>\n",
       "      <td>1</td>\n",
       "    </tr>\n",
       "    <tr>\n",
       "      <th>2</th>\n",
       "      <td>I thought this was a wonderful way to spend ti...</td>\n",
       "      <td>positive</td>\n",
       "      <td>1</td>\n",
       "    </tr>\n",
       "    <tr>\n",
       "      <th>3</th>\n",
       "      <td>Basically there's a family where a little boy ...</td>\n",
       "      <td>negative</td>\n",
       "      <td>0</td>\n",
       "    </tr>\n",
       "    <tr>\n",
       "      <th>4</th>\n",
       "      <td>Petter Mattei's \"Love in the Time of Money\" is...</td>\n",
       "      <td>positive</td>\n",
       "      <td>1</td>\n",
       "    </tr>\n",
       "  </tbody>\n",
       "</table>\n",
       "</div>"
      ],
      "text/plain": [
       "                                              review sentiment  \\\n",
       "0  One of the other reviewers has mentioned that ...  positive   \n",
       "1  A wonderful little production. <br /><br />The...  positive   \n",
       "2  I thought this was a wonderful way to spend ti...  positive   \n",
       "3  Basically there's a family where a little boy ...  negative   \n",
       "4  Petter Mattei's \"Love in the Time of Money\" is...  positive   \n",
       "\n",
       "   sentiment_encoded  \n",
       "0                  1  \n",
       "1                  1  \n",
       "2                  1  \n",
       "3                  0  \n",
       "4                  1  "
      ]
     },
     "execution_count": 6,
     "metadata": {},
     "output_type": "execute_result"
    }
   ],
   "source": [
    "reviews.head()"
   ]
  },
  {
   "cell_type": "code",
   "execution_count": 7,
   "id": "3a2a2585-b0f2-4fee-b353-a9d19ec73ef1",
   "metadata": {
    "tags": []
   },
   "outputs": [],
   "source": [
    "# convert reviews and sentiments into numpy arrays\n",
    "sentences = reviews['review'].to_numpy()\n",
    "labels = reviews['sentiment_encoded'].to_numpy()"
   ]
  },
  {
   "cell_type": "code",
   "execution_count": 8,
   "id": "ae764325-3fc7-4230-92f1-1abd70088fc5",
   "metadata": {
    "tags": []
   },
   "outputs": [
    {
     "name": "stdout",
     "output_type": "stream",
     "text": [
      "Training Data Input Shape:  (37500,)\n",
      "Training Data Output Shape:  (37500,)\n",
      "Testing Data Input Shape:  (12500,)\n",
      "Testing Data Output Shape:  (12500,)\n"
     ]
    }
   ],
   "source": [
    "# make a train-test split of the data\n",
    "X_train, X_test, y_train, y_test = train_test_split(sentences, labels, test_size=0.25)\n",
    "print(\"Training Data Input Shape: \", X_train.shape)\n",
    "print(\"Training Data Output Shape: \", y_train.shape)\n",
    "print(\"Testing Data Input Shape: \", X_test.shape)\n",
    "print(\"Testing Data Output Shape: \", y_test.shape)"
   ]
  },
  {
   "cell_type": "code",
   "execution_count": 9,
   "id": "02c97809-f60d-4a8b-a37d-9b5fc385880d",
   "metadata": {
    "tags": []
   },
   "outputs": [],
   "source": [
    "# create tokenizer\n",
    "vocab_size = 10000\n",
    "oov_tok = \"<OOV>\"\n",
    "tokenizer = Tokenizer(num_words=vocab_size, oov_token=oov_tok)"
   ]
  },
  {
   "cell_type": "code",
   "execution_count": 10,
   "id": "7223e1c1-c49a-440c-be0c-32f86410b2d8",
   "metadata": {
    "tags": []
   },
   "outputs": [
    {
     "name": "stdout",
     "output_type": "stream",
     "text": [
      "Number of Documents:  37500\n",
      "Number of Words:  10000\n"
     ]
    }
   ],
   "source": [
    "# fit tokenizer on trainining sentences\n",
    "tokenizer.fit_on_texts(X_train)\n",
    "print(\"Number of Documents: \", tokenizer.document_count)\n",
    "print(\"Number of Words: \", tokenizer.num_words)"
   ]
  },
  {
   "cell_type": "code",
   "execution_count": 11,
   "id": "545612bc-7f4d-4999-85c7-541dc5fdea66",
   "metadata": {
    "tags": []
   },
   "outputs": [],
   "source": [
    "# visualize the count of each word (optional)\n",
    "# tokenizer.word_counts"
   ]
  },
  {
   "cell_type": "markdown",
   "id": "6f824b07-496f-425c-8c41-7f522f1d793f",
   "metadata": {},
   "source": [
    "# Preprocessing Training Data"
   ]
  },
  {
   "cell_type": "code",
   "execution_count": 12,
   "id": "09af449c-8583-4371-ad43-951df2d52f8e",
   "metadata": {
    "tags": []
   },
   "outputs": [],
   "source": [
    "# create training sequences\n",
    "train_sequences = tokenizer.texts_to_sequences(X_train)"
   ]
  },
  {
   "cell_type": "code",
   "execution_count": 13,
   "id": "00454f60-6789-46ed-a75e-c7b5e604fbaa",
   "metadata": {
    "tags": []
   },
   "outputs": [
    {
     "name": "stdout",
     "output_type": "stream",
     "text": [
      "One of the other reviewers has mentioned that after watching just 1 Oz episode you'll be hooked. They are right, as this is exactly what happened with me.<br /><br />The first thing that struck me about Oz was its brutality and unflinching scenes of violence, which set in right from the word GO. Trust me, this is not a show for the faint hearted or timid. This show pulls no punches with regards to drugs, sex or violence. Its is hardcore, in the classic use of the word.<br /><br />It is called OZ as that is the nickname given to the Oswald Maximum Security State Penitentary. It focuses mainly on Emerald City, an experimental section of the prison where all the cells have glass fronts and face inwards, so privacy is not high on the agenda. Em City is home to many..Aryans, Muslims, gangstas, Latinos, Christians, Italians, Irish and more....so scuffles, death stares, dodgy dealings and shady agreements are never far away.<br /><br />I would say the main appeal of the show is due to the fact that it goes where other shows wouldn't dare. Forget pretty pictures painted for mainstream audiences, forget charm, forget romance...OZ doesn't mess around. The first episode I ever saw struck me as so nasty it was surreal, I couldn't say I was ready for it, but as I watched more, I developed a taste for Oz, and got accustomed to the high levels of graphic violence. Not just violence, but injustice (crooked guards who'll be sold out for a nickel, inmates who'll kill on order and get away with it, well mannered, middle class inmates being turned into prison bitches due to their lack of street skills or prison experience) Watching Oz, you may become comfortable with what is uncomfortable viewing....thats if you can get in touch with your darker side. \n",
      " [686, 1, 7, 2, 1, 5879, 65, 2, 882, 5, 2, 121, 7, 222, 193, 2, 964, 817, 35, 107, 65, 422, 3, 1, 10, 16, 97, 107, 1, 102, 13, 10, 1, 176, 2, 2786, 2, 113, 7994, 31, 1, 1, 1, 49, 1095, 10, 232, 26, 67, 9, 100, 356, 399, 118, 39, 163, 559, 8, 8, 2806, 1, 2192, 1, 7, 4, 1256, 1, 765, 21, 4, 8911, 1568, 802, 4, 2628, 8473, 482, 25, 62, 765, 1, 7, 2176, 32, 2, 1, 320, 5, 25, 344, 561, 1, 36, 1086, 9, 4, 1530, 7651, 2271, 32, 1243, 5, 2, 29, 1, 33, 2655, 1, 1, 554, 8, 8, 1985, 2417, 1, 352, 5, 8678, 8381, 3541, 4970, 1, 7, 2787, 6, 1076, 25, 234, 291, 137, 3038, 17, 2, 1, 320, 5, 25, 561, 36, 83, 1086, 9, 2, 7651, 9, 4, 1, 5162, 320, 5, 1, 61, 2290, 3850, 4238, 3664, 8, 8, 9, 1654, 6, 2, 8284, 498, 1, 2507, 37, 4, 757, 450, 15, 107, 5879, 571, 73, 472, 117, 88, 10, 648, 11, 921, 2, 1, 2177, 66, 201, 4971, 3, 4363, 445, 1908]\n"
     ]
    }
   ],
   "source": [
    "print(sentences[0], '\\n', train_sequences[0])"
   ]
  },
  {
   "cell_type": "code",
   "execution_count": 14,
   "id": "65cb8abe-2f91-423f-800c-931bc80fcb40",
   "metadata": {},
   "outputs": [],
   "source": [
    "# pad sequences\n",
    "sequence_length = 200\n",
    "train_padded = pad_sequences(train_sequences, maxlen=sequence_length, padding='post', truncating='post')"
   ]
  },
  {
   "cell_type": "code",
   "execution_count": 15,
   "id": "84ed2e27-d351-4ac4-a4eb-64f3c4215dd0",
   "metadata": {
    "tags": []
   },
   "outputs": [
    {
     "name": "stdout",
     "output_type": "stream",
     "text": [
      "[ 686    1    7    2    1 5879   65    2  882    5    2  121    7  222\n",
      "  193    2  964  817   35  107   65  422    3    1   10   16   97  107\n",
      "    1  102   13   10    1  176    2 2786    2  113 7994   31    1    1\n",
      "    1   49 1095   10  232   26   67    9  100  356  399  118   39  163\n",
      "  559    8    8 2806    1 2192    1    7    4 1256    1  765   21    4\n",
      " 8911 1568  802    4 2628 8473  482   25   62  765    1    7 2176   32\n",
      "    2    1  320    5   25  344  561    1   36 1086    9    4 1530 7651\n",
      " 2271   32 1243    5    2   29    1   33 2655    1    1  554    8    8\n",
      " 1985 2417    1  352    5 8678 8381 3541 4970    1    7 2787    6 1076\n",
      "   25  234  291  137 3038   17    2    1  320    5   25  561   36   83\n",
      " 1086    9    2 7651    9    4    1 5162  320    5    1   61 2290 3850\n",
      " 4238 3664    8    8    9 1654    6    2 8284  498    1 2507   37    4\n",
      "  757  450   15  107 5879  571   73  472  117   88   10  648   11  921\n",
      "    2    1 2177   66  201 4971    3 4363  445 1908    0    0    0    0\n",
      "    0    0    0    0]\n"
     ]
    }
   ],
   "source": [
    "print(train_padded[0])"
   ]
  },
  {
   "cell_type": "markdown",
   "id": "64767e70-d466-4371-a94f-e23e08946891",
   "metadata": {},
   "source": [
    "# Preprocessing Test Data"
   ]
  },
  {
   "cell_type": "code",
   "execution_count": 16,
   "id": "caffcb40-8aa8-41b1-b7c0-078d970e0a93",
   "metadata": {
    "tags": []
   },
   "outputs": [],
   "source": [
    "# create test sequences\n",
    "test_sequences = tokenizer.texts_to_sequences(X_test)"
   ]
  },
  {
   "cell_type": "code",
   "execution_count": 17,
   "id": "462fc92a-c7a2-4460-bbd8-64b27c643784",
   "metadata": {
    "tags": []
   },
   "outputs": [],
   "source": [
    "# padding test sequences\n",
    "test_padded = pad_sequences(test_sequences, maxlen=sequence_length, padding='post', truncating='post')"
   ]
  },
  {
   "cell_type": "markdown",
   "id": "007ceaba-d362-4aec-97a8-42f069108a1c",
   "metadata": {},
   "source": [
    "# Save to Pickle"
   ]
  },
  {
   "cell_type": "code",
   "execution_count": 19,
   "id": "120541b0-2294-4591-8a43-4117e1782c6a",
   "metadata": {
    "tags": []
   },
   "outputs": [],
   "source": [
    "path_preprocessed = os.path.join(os.getcwd(), 'data-preprocessed')\n",
    "if not os.path.exists(path_preprocessed):\n",
    "    os.makedirs(path_preprocessed)\n",
    "    \n",
    "with open(os.path.join(path_preprocessed, 'tokenizer.pickle'), 'wb') as f:\n",
    "    pickle.dump(tokenizer, f)\n",
    "    \n",
    "with open(os.path.join(path_preprocessed, 'train_padded.pickle'), 'wb') as f:\n",
    "    pickle.dump(train_padded, f)\n",
    "    \n",
    "with open(os.path.join(path_preprocessed, 'y_train.pickle'), 'wb') as f:\n",
    "    pickle.dump(y_train, f)\n",
    "    \n",
    "with open(os.path.join(path_preprocessed, 'test_padded.pickle'), 'wb') as f:\n",
    "    pickle.dump(test_padded, f)\n",
    "    \n",
    "with open(os.path.join(path_preprocessed, 'y_test.pickle'), 'wb') as f:\n",
    "    pickle.dump(y_test, f)"
   ]
  },
  {
   "cell_type": "code",
   "execution_count": null,
   "id": "dd7da34f-2f26-4636-bbb2-fb69fa288038",
   "metadata": {},
   "outputs": [],
   "source": []
  }
 ],
 "metadata": {
  "kernelspec": {
   "display_name": "pyenv-imdb:Python",
   "language": "python",
   "name": "conda-env-pyenv-imdb-py"
  },
  "language_info": {
   "codemirror_mode": {
    "name": "ipython",
    "version": 3
   },
   "file_extension": ".py",
   "mimetype": "text/x-python",
   "name": "python",
   "nbconvert_exporter": "python",
   "pygments_lexer": "ipython3",
   "version": "3.11.8"
  }
 },
 "nbformat": 4,
 "nbformat_minor": 5
}
