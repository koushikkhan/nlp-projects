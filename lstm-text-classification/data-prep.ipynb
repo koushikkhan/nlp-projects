{
 "cells": [
  {
   "cell_type": "markdown",
   "id": "e023b114-7f15-416c-85f8-5f1bd8a8e16f",
   "metadata": {},
   "source": [
    "# Import Dataset and Preprocess"
   ]
  },
  {
   "cell_type": "markdown",
   "id": "57b0e44a-ad22-4a9f-b287-d1785d776262",
   "metadata": {},
   "source": [
    "## Download the IMDB Movie Review Dataset\n",
    "\n",
    "Link: https://www.kaggle.com/datasets/lakshmi25npathi/imdb-dataset-of-50k-movie-reviews"
   ]
  },
  {
   "cell_type": "code",
   "execution_count": 2,
   "id": "ab7c34c9-7769-404b-a9c2-0c79e04e8c64",
   "metadata": {
    "tags": []
   },
   "outputs": [],
   "source": [
    "import os\n",
    "import pickle\n",
    "import numpy as np\n",
    "import pandas as pd\n",
    "import matplotlib.pyplot as plt\n",
    "from sklearn.model_selection import train_test_split\n",
    "from tensorflow.keras.preprocessing.text import Tokenizer\n",
    "from tensorflow.keras.preprocessing.sequence import pad_sequences"
   ]
  },
  {
   "cell_type": "code",
   "execution_count": 3,
   "id": "fc062d05-bdc1-4b66-9dbd-ce5bc1ef25ad",
   "metadata": {
    "tags": []
   },
   "outputs": [],
   "source": [
    "reviews = pd.read_csv(\"./IMDB Dataset.csv.zip\")"
   ]
  },
  {
   "cell_type": "code",
   "execution_count": 4,
   "id": "cc09ca30-4b2f-430c-a7c9-8f0ce6e00cfd",
   "metadata": {
    "tags": []
   },
   "outputs": [
    {
     "data": {
      "text/plain": [
       "(50000, 2)"
      ]
     },
     "execution_count": 4,
     "metadata": {},
     "output_type": "execute_result"
    }
   ],
   "source": [
    "reviews.shape"
   ]
  },
  {
   "cell_type": "code",
   "execution_count": 5,
   "id": "5ea3b4cd-f862-4580-a7d1-47ec88553a14",
   "metadata": {
    "tags": []
   },
   "outputs": [
    {
     "data": {
      "text/html": [
       "<div>\n",
       "<style scoped>\n",
       "    .dataframe tbody tr th:only-of-type {\n",
       "        vertical-align: middle;\n",
       "    }\n",
       "\n",
       "    .dataframe tbody tr th {\n",
       "        vertical-align: top;\n",
       "    }\n",
       "\n",
       "    .dataframe thead th {\n",
       "        text-align: right;\n",
       "    }\n",
       "</style>\n",
       "<table border=\"1\" class=\"dataframe\">\n",
       "  <thead>\n",
       "    <tr style=\"text-align: right;\">\n",
       "      <th></th>\n",
       "      <th>review</th>\n",
       "      <th>sentiment</th>\n",
       "    </tr>\n",
       "  </thead>\n",
       "  <tbody>\n",
       "    <tr>\n",
       "      <th>0</th>\n",
       "      <td>One of the other reviewers has mentioned that ...</td>\n",
       "      <td>positive</td>\n",
       "    </tr>\n",
       "    <tr>\n",
       "      <th>1</th>\n",
       "      <td>A wonderful little production. &lt;br /&gt;&lt;br /&gt;The...</td>\n",
       "      <td>positive</td>\n",
       "    </tr>\n",
       "    <tr>\n",
       "      <th>2</th>\n",
       "      <td>I thought this was a wonderful way to spend ti...</td>\n",
       "      <td>positive</td>\n",
       "    </tr>\n",
       "    <tr>\n",
       "      <th>3</th>\n",
       "      <td>Basically there's a family where a little boy ...</td>\n",
       "      <td>negative</td>\n",
       "    </tr>\n",
       "    <tr>\n",
       "      <th>4</th>\n",
       "      <td>Petter Mattei's \"Love in the Time of Money\" is...</td>\n",
       "      <td>positive</td>\n",
       "    </tr>\n",
       "  </tbody>\n",
       "</table>\n",
       "</div>"
      ],
      "text/plain": [
       "                                              review sentiment\n",
       "0  One of the other reviewers has mentioned that ...  positive\n",
       "1  A wonderful little production. <br /><br />The...  positive\n",
       "2  I thought this was a wonderful way to spend ti...  positive\n",
       "3  Basically there's a family where a little boy ...  negative\n",
       "4  Petter Mattei's \"Love in the Time of Money\" is...  positive"
      ]
     },
     "execution_count": 5,
     "metadata": {},
     "output_type": "execute_result"
    }
   ],
   "source": [
    "reviews.head()"
   ]
  },
  {
   "cell_type": "code",
   "execution_count": 6,
   "id": "7790b2eb-d253-4c2e-b2c0-e9317d7ad311",
   "metadata": {
    "tags": []
   },
   "outputs": [],
   "source": [
    "reviews['sentiment_encoded'] = reviews['sentiment'].apply(lambda x: 1 if x == 'positive' else 0)"
   ]
  },
  {
   "cell_type": "code",
   "execution_count": 7,
   "id": "2d353acf-bc78-429a-9098-8d249d2ab461",
   "metadata": {
    "tags": []
   },
   "outputs": [
    {
     "data": {
      "text/html": [
       "<div>\n",
       "<style scoped>\n",
       "    .dataframe tbody tr th:only-of-type {\n",
       "        vertical-align: middle;\n",
       "    }\n",
       "\n",
       "    .dataframe tbody tr th {\n",
       "        vertical-align: top;\n",
       "    }\n",
       "\n",
       "    .dataframe thead th {\n",
       "        text-align: right;\n",
       "    }\n",
       "</style>\n",
       "<table border=\"1\" class=\"dataframe\">\n",
       "  <thead>\n",
       "    <tr style=\"text-align: right;\">\n",
       "      <th></th>\n",
       "      <th>review</th>\n",
       "      <th>sentiment</th>\n",
       "      <th>sentiment_encoded</th>\n",
       "    </tr>\n",
       "  </thead>\n",
       "  <tbody>\n",
       "    <tr>\n",
       "      <th>0</th>\n",
       "      <td>One of the other reviewers has mentioned that ...</td>\n",
       "      <td>positive</td>\n",
       "      <td>1</td>\n",
       "    </tr>\n",
       "    <tr>\n",
       "      <th>1</th>\n",
       "      <td>A wonderful little production. &lt;br /&gt;&lt;br /&gt;The...</td>\n",
       "      <td>positive</td>\n",
       "      <td>1</td>\n",
       "    </tr>\n",
       "    <tr>\n",
       "      <th>2</th>\n",
       "      <td>I thought this was a wonderful way to spend ti...</td>\n",
       "      <td>positive</td>\n",
       "      <td>1</td>\n",
       "    </tr>\n",
       "    <tr>\n",
       "      <th>3</th>\n",
       "      <td>Basically there's a family where a little boy ...</td>\n",
       "      <td>negative</td>\n",
       "      <td>0</td>\n",
       "    </tr>\n",
       "    <tr>\n",
       "      <th>4</th>\n",
       "      <td>Petter Mattei's \"Love in the Time of Money\" is...</td>\n",
       "      <td>positive</td>\n",
       "      <td>1</td>\n",
       "    </tr>\n",
       "  </tbody>\n",
       "</table>\n",
       "</div>"
      ],
      "text/plain": [
       "                                              review sentiment  \\\n",
       "0  One of the other reviewers has mentioned that ...  positive   \n",
       "1  A wonderful little production. <br /><br />The...  positive   \n",
       "2  I thought this was a wonderful way to spend ti...  positive   \n",
       "3  Basically there's a family where a little boy ...  negative   \n",
       "4  Petter Mattei's \"Love in the Time of Money\" is...  positive   \n",
       "\n",
       "   sentiment_encoded  \n",
       "0                  1  \n",
       "1                  1  \n",
       "2                  1  \n",
       "3                  0  \n",
       "4                  1  "
      ]
     },
     "execution_count": 7,
     "metadata": {},
     "output_type": "execute_result"
    }
   ],
   "source": [
    "reviews.head()"
   ]
  },
  {
   "cell_type": "code",
   "execution_count": 8,
   "id": "3a2a2585-b0f2-4fee-b353-a9d19ec73ef1",
   "metadata": {
    "tags": []
   },
   "outputs": [],
   "source": [
    "# convert reviews and sentiments into numpy arrays\n",
    "sentences = reviews['review'].to_numpy()\n",
    "labels = reviews['sentiment_encoded'].to_numpy()"
   ]
  },
  {
   "cell_type": "code",
   "execution_count": 9,
   "id": "ae764325-3fc7-4230-92f1-1abd70088fc5",
   "metadata": {
    "tags": []
   },
   "outputs": [
    {
     "name": "stdout",
     "output_type": "stream",
     "text": [
      "Training Data Input Shape:  (37500,)\n",
      "Training Data Output Shape:  (37500,)\n",
      "Testing Data Input Shape:  (12500,)\n",
      "Testing Data Output Shape:  (12500,)\n"
     ]
    }
   ],
   "source": [
    "# make a train-test split of the data\n",
    "X_train, X_test, y_train, y_test = train_test_split(sentences, labels, test_size=0.25)\n",
    "print(\"Training Data Input Shape: \", X_train.shape)\n",
    "print(\"Training Data Output Shape: \", y_train.shape)\n",
    "print(\"Testing Data Input Shape: \", X_test.shape)\n",
    "print(\"Testing Data Output Shape: \", y_test.shape)"
   ]
  },
  {
   "cell_type": "code",
   "execution_count": 10,
   "id": "02c97809-f60d-4a8b-a37d-9b5fc385880d",
   "metadata": {
    "tags": []
   },
   "outputs": [],
   "source": [
    "# create tokenizer\n",
    "vocab_size = 10000\n",
    "oov_tok = \"<OOV>\"\n",
    "tokenizer = Tokenizer(num_words=vocab_size, oov_token=oov_tok)"
   ]
  },
  {
   "cell_type": "code",
   "execution_count": 11,
   "id": "7223e1c1-c49a-440c-be0c-32f86410b2d8",
   "metadata": {
    "tags": []
   },
   "outputs": [
    {
     "name": "stdout",
     "output_type": "stream",
     "text": [
      "Number of Documents:  37500\n",
      "Number of Words:  10000\n"
     ]
    }
   ],
   "source": [
    "# fit tokenizer on trainining sentences\n",
    "tokenizer.fit_on_texts(X_train)\n",
    "print(\"Number of Documents: \", tokenizer.document_count)\n",
    "print(\"Number of Words: \", tokenizer.num_words)"
   ]
  },
  {
   "cell_type": "code",
   "execution_count": 12,
   "id": "545612bc-7f4d-4999-85c7-541dc5fdea66",
   "metadata": {
    "tags": []
   },
   "outputs": [],
   "source": [
    "# visualize the count of each word (optional)\n",
    "# tokenizer.word_counts"
   ]
  },
  {
   "cell_type": "markdown",
   "id": "6f824b07-496f-425c-8c41-7f522f1d793f",
   "metadata": {},
   "source": [
    "# Preprocessing Training Data"
   ]
  },
  {
   "cell_type": "code",
   "execution_count": 13,
   "id": "09af449c-8583-4371-ad43-951df2d52f8e",
   "metadata": {
    "tags": []
   },
   "outputs": [],
   "source": [
    "# create training sequences\n",
    "train_sequences = tokenizer.texts_to_sequences(X_train)"
   ]
  },
  {
   "cell_type": "code",
   "execution_count": 14,
   "id": "00454f60-6789-46ed-a75e-c7b5e604fbaa",
   "metadata": {
    "tags": []
   },
   "outputs": [],
   "source": [
    "# print(sentences[0], '\\n', train_sequences[0])"
   ]
  },
  {
   "cell_type": "code",
   "execution_count": 15,
   "id": "65cb8abe-2f91-423f-800c-931bc80fcb40",
   "metadata": {},
   "outputs": [],
   "source": [
    "# pad sequences\n",
    "sequence_length = 200\n",
    "train_padded = pad_sequences(train_sequences, maxlen=sequence_length, padding='post', truncating='post')"
   ]
  },
  {
   "cell_type": "code",
   "execution_count": 16,
   "id": "84ed2e27-d351-4ac4-a4eb-64f3c4215dd0",
   "metadata": {
    "tags": []
   },
   "outputs": [],
   "source": [
    "# print(train_padded[0])"
   ]
  },
  {
   "cell_type": "markdown",
   "id": "64767e70-d466-4371-a94f-e23e08946891",
   "metadata": {},
   "source": [
    "# Preprocessing Test Data"
   ]
  },
  {
   "cell_type": "code",
   "execution_count": 17,
   "id": "caffcb40-8aa8-41b1-b7c0-078d970e0a93",
   "metadata": {
    "tags": []
   },
   "outputs": [],
   "source": [
    "# create test sequences\n",
    "test_sequences = tokenizer.texts_to_sequences(X_test)"
   ]
  },
  {
   "cell_type": "code",
   "execution_count": 18,
   "id": "462fc92a-c7a2-4460-bbd8-64b27c643784",
   "metadata": {
    "tags": []
   },
   "outputs": [],
   "source": [
    "# padding test sequences\n",
    "test_padded = pad_sequences(test_sequences, maxlen=sequence_length, padding='post', truncating='post')"
   ]
  },
  {
   "cell_type": "markdown",
   "id": "007ceaba-d362-4aec-97a8-42f069108a1c",
   "metadata": {},
   "source": [
    "# Save to Pickle"
   ]
  },
  {
   "cell_type": "code",
   "execution_count": 19,
   "id": "120541b0-2294-4591-8a43-4117e1782c6a",
   "metadata": {
    "tags": []
   },
   "outputs": [],
   "source": [
    "path_preprocessed = os.path.join(os.getcwd(), 'data-preprocessed')\n",
    "if not os.path.exists(path_preprocessed):\n",
    "    os.makedirs(path_preprocessed)\n",
    "    \n",
    "with open(os.path.join(path_preprocessed, 'tokenizer.pickle'), 'wb') as f:\n",
    "    pickle.dump(tokenizer, f)\n",
    "    \n",
    "with open(os.path.join(path_preprocessed, 'train_padded.pickle'), 'wb') as f:\n",
    "    pickle.dump(train_padded, f)\n",
    "    \n",
    "with open(os.path.join(path_preprocessed, 'y_train.pickle'), 'wb') as f:\n",
    "    pickle.dump(y_train, f)\n",
    "    \n",
    "with open(os.path.join(path_preprocessed, 'test_padded.pickle'), 'wb') as f:\n",
    "    pickle.dump(test_padded, f)\n",
    "    \n",
    "with open(os.path.join(path_preprocessed, 'y_test.pickle'), 'wb') as f:\n",
    "    pickle.dump(y_test, f)"
   ]
  },
  {
   "cell_type": "code",
   "execution_count": null,
   "id": "dd7da34f-2f26-4636-bbb2-fb69fa288038",
   "metadata": {},
   "outputs": [],
   "source": []
  }
 ],
 "metadata": {
  "kernelspec": {
   "display_name": "DL",
   "language": "python",
   "name": "pyenv-bol"
  },
  "language_info": {
   "codemirror_mode": {
    "name": "ipython",
    "version": 3
   },
   "file_extension": ".py",
   "mimetype": "text/x-python",
   "name": "python",
   "nbconvert_exporter": "python",
   "pygments_lexer": "ipython3",
   "version": "3.12.2"
  }
 },
 "nbformat": 4,
 "nbformat_minor": 5
}
